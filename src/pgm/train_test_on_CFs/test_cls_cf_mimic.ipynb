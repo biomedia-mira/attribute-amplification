{
 "cells": [
  {
   "cell_type": "code",
   "execution_count": null,
   "metadata": {},
   "outputs": [],
   "source": [
    "import sys\n",
    "import argparse\n",
    "import copy\n",
    "import torchvision\n",
    "import torch\n",
    "import os\n",
    "os.environ['CUDA_DEVICE_ORDER']='PCI_BUS_ID'\n",
    "os.environ['CUDA_VISIBLE_DEVICES']='0'\n",
    "import pyro\n",
    "from sklearn.metrics import auc, recall_score, roc_curve, roc_auc_score\n",
    "sys.path.append('../..')\n",
    "from tqdm import tqdm\n",
    "import torch.nn.functional as F\n",
    "sys.path.append('..')\n",
    "from train_setup import setup_directories, setup_logging\n",
    "from utils import EMA\n",
    "from train_pgm import preprocess\n",
    "import pandas as pd\n",
    "from layers import TraceStorage_ELBO\n",
    "from torch.utils.data import DataLoader\n",
    "from mimic import MimicDataset_with_cfs, MimicDataset\n",
    "from torch.optim.lr_scheduler import ReduceLROnPlateau\n",
    "import numpy as np\n",
    "from train_pgm import setup_dataloaders\n",
    "import scipy\n",
    "import matplotlib.pyplot as plt\n",
    "import torch.nn as nn\n",
    "from flow_pgm import FlowPGM\n",
    "from train_cls_cf_mimic import eval_epoch, sup_epoch\n",
    "\n",
    "_DEVICE = \"cuda:0\"\n",
    "_TEST_DATA = \"real\""
   ]
  },
  {
   "cell_type": "code",
   "execution_count": null,
   "metadata": {},
   "outputs": [],
   "source": [
    "def norm(batch):\n",
    "    for k, v in batch.items():\n",
    "        if k in ['x', 'cf_x']:\n",
    "            batch[k] = (batch[k].float() - 127.5) / 127.5  # [-1,1]\n",
    "        elif k in ['age']:\n",
    "            batch[k] = batch[k].float().unsqueeze(-1)\n",
    "            batch[k] = batch[k] / 100.\n",
    "            batch[k] = batch[k] *2 -1 #[-1,1]\n",
    "        elif k in ['race']:\n",
    "            batch[k] = F.one_hot(batch[k], num_classes=3).squeeze().float()\n",
    "        elif k in ['finding']:\n",
    "            batch[k] = batch[k].unsqueeze(-1).float()\n",
    "        else:\n",
    "            try:\n",
    "                batch[k] = batch[k].float().unsqueeze(-1)\n",
    "            except:\n",
    "                batch[k] = batch[k]\n",
    "    return batch\n",
    "\n",
    "def loginfo(title, logger, stats):\n",
    "    logger.info(f'{title} | ' +\n",
    "                ' - '.join(f'{k}: {v:.4f}' for k, v in stats.items()))\n",
    "\n",
    "def inv_preprocess(pa):\n",
    "    # Undo [-1,1] parent preprocessing back to original range\n",
    "    for k, v in pa.items():\n",
    "        if k =='age':\n",
    "            pa[k] = (v + 1) / 2 * 100\n",
    "    return pa\n",
    "\n",
    "\n",
    "def vae_preprocess(args, pa):\n",
    "    pa = torch.cat([pa[k] for k in args.parents_x], dim=1)\n",
    "    pa = pa[..., None, None].repeat(\n",
    "        1, 1, *(args.input_res,)*2).float()\n",
    "    return pa\n",
    "\n",
    "\n",
    "def get_metrics(preds, targets):\n",
    "    for k, v in preds.items():\n",
    "        preds[k] = torch.stack(v).squeeze().cpu()\n",
    "        targets[k] = torch.stack(targets[k]).squeeze().cpu()\n",
    "        # print(f'{k} | preds: {preds[k].shape} - targets: {targets[k].shape}')\n",
    "    stats = {}\n",
    "    for k in preds.keys():\n",
    "        if k==\"age\":\n",
    "            preds_k = (preds[k] + 1) / 2 *100  # [-1,1] -> [0,100]\n",
    "            stats[k+'_mae'] = torch.mean(\n",
    "                torch.abs(targets[k] - preds_k)).item() \n",
    "    return stats\n",
    "\n",
    "class Hparams:\n",
    "    def update(self, dict):\n",
    "        for k, v in dict.items():\n",
    "            setattr(self, k, v)"
   ]
  },
  {
   "cell_type": "markdown",
   "metadata": {},
   "source": [
    "### Set parameters"
   ]
  },
  {
   "cell_type": "code",
   "execution_count": null,
   "metadata": {},
   "outputs": [],
   "source": [
    "\n",
    "dscm_dir=\"WHICH_DSCM_WAS_USED_TO_GENERATE_CFS\"\n",
    "which_checkpoint=\"WHICH_CHECKPOINT\"\n",
    "\n",
    "\n",
    "\n",
    "parser = argparse.ArgumentParser()\n",
    "args = parser.parse_known_args()[0]\n",
    "\n",
    "args.use_data = \"cf\"\n",
    "args.eval_data = \"real\"\n",
    "\n",
    "# Which cf was used to train the model\n",
    "args.which_cf ='race'\n",
    "# args.which_cf ='sex'\n",
    "# args.which_cf = 'finding'\n",
    "\n",
    "args.setup = 'sup_determ'\n",
    "\n",
    "elbo_fn = TraceStorage_ELBO(num_particles=2)\n",
    "\n",
    "\n",
    "args.data_dir = '/vol/biodata/data/chest_xray/mimic-cxr-jpg-224/data/' \n",
    "args.lr = 1e-4\n",
    "args.bs = 64\n",
    "args.wd = 0.05\n",
    "args.csv_dir = f\"CF_DATA_DIR/{dscm_dir}/{which_checkpoint}\"\n",
    "args.parents_x = ['age','race', 'sex', 'finding']\n",
    "args.enc_net = \"resnet18\"\n",
    "args.epochs=1000\n",
    "args.input_res = 224\n",
    "args.eval_freq = 1\n",
    "args.use_dataset='mimic_cfs' \n",
    "args.input_channels = 1\n",
    "args.loss_norm=\"l2\"\n",
    "\n",
    "\n",
    "# The trained classifier on CFs\n",
    "args.exp_name = f\"mimic_train_{args.use_data}_{args.which_cf}_val_{args.eval_data}_classifier_resnet18_lr4_slurm_{args.setup}\"\n"
   ]
  },
  {
   "cell_type": "markdown",
   "metadata": {},
   "source": [
    "### Load predictors"
   ]
  },
  {
   "cell_type": "code",
   "execution_count": null,
   "metadata": {},
   "outputs": [],
   "source": [
    "pyro.clear_param_store()\n",
    "model = FlowPGM(args)\n",
    "ema = EMA(model, beta=0.999)\n",
    "model.to(_DEVICE)\n",
    "ema.to(_DEVICE)\n",
    "\n",
    "# model_path = f\"checkpoints/{dscm_dir}/{which_checkpoint}/a_r_s_f/{args.exp_name}/checkpoint_current.pt\"\n",
    "model_path = f\"checkpoints/{dscm_dir}/{which_checkpoint}/a_r_s_f/{args.exp_name}/checkpoint.pt\"\n",
    "\n",
    "model_checkpoint = torch.load(model_path)\n",
    "model.load_state_dict(model_checkpoint['ema_model_state_dict'])\n",
    "model=model.to(_DEVICE)\n",
    "print(model_path)"
   ]
  },
  {
   "cell_type": "markdown",
   "metadata": {},
   "source": [
    "### Set dataloaders"
   ]
  },
  {
   "cell_type": "code",
   "execution_count": null,
   "metadata": {},
   "outputs": [],
   "source": [
    "args.bs = 20\n",
    "dataloaders = setup_dataloaders(args)"
   ]
  },
  {
   "cell_type": "code",
   "execution_count": null,
   "metadata": {},
   "outputs": [],
   "source": [
    "print(args)"
   ]
  },
  {
   "cell_type": "markdown",
   "metadata": {},
   "source": [
    "### Evaluate on test data"
   ]
  },
  {
   "cell_type": "code",
   "execution_count": null,
   "metadata": {},
   "outputs": [],
   "source": [
    "test_stats = eval_epoch(\n",
    "                model = model, \n",
    "                dataloader = dataloaders['valid'],\n",
    "                use_data=_TEST_DATA,\n",
    "            )"
   ]
  },
  {
   "cell_type": "code",
   "execution_count": null,
   "metadata": {},
   "outputs": [],
   "source": [
    "print(f\"{dscm_dir}: \")\n",
    "print(f\"{args.exp_name}: \")\n",
    "print(f\"{args.which_cf} {args.use_data} | \"+\" - \".join(f'{k}: {v:.3f}' for k,v in test_stats.items()))"
   ]
  },
  {
   "cell_type": "code",
   "execution_count": null,
   "metadata": {},
   "outputs": [],
   "source": []
  }
 ],
 "metadata": {
  "kernelspec": {
   "display_name": "Python 3.10.6 ('tian_torch')",
   "language": "python",
   "name": "python3"
  },
  "language_info": {
   "codemirror_mode": {
    "name": "ipython",
    "version": 3
   },
   "file_extension": ".py",
   "mimetype": "text/x-python",
   "name": "python",
   "nbconvert_exporter": "python",
   "pygments_lexer": "ipython3",
   "version": "3.10.6"
  },
  "orig_nbformat": 4,
  "vscode": {
   "interpreter": {
    "hash": "45fae4a8897f69882dc1a9e0abf776bc91929dbd910983e0126dfd7e083d88c5"
   }
  }
 },
 "nbformat": 4,
 "nbformat_minor": 2
}
